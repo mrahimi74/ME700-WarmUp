{
 "cells": [
  {
   "cell_type": "code",
   "execution_count": null,
   "metadata": {
    "vscode": {
     "languageId": "plaintext"
    }
   },
   "outputs": [],
   "source": [
    "from BisectionMethod import bisection as BM\n",
    "import numpy as np"
   ]
  },
  {
   "cell_type": "code",
   "execution_count": null,
   "metadata": {
    "vscode": {
     "languageId": "plaintext"
    }
   },
   "outputs": [],
   "source": [
    "tol = 1e-11\n",
    "max_iter = 30"
   ]
  },
  {
   "cell_type": "markdown",
   "metadata": {},
   "source": [
    "Example1:\n",
    "\n",
    "the intersection of $$x^2 - 4 \\;\\; and \\;\\; sin(x)$$"
   ]
  },
  {
   "cell_type": "code",
   "execution_count": null,
   "metadata": {
    "vscode": {
     "languageId": "plaintext"
    }
   },
   "outputs": [],
   "source": [
    "def f(x):\n",
    "    return np.sin(x) - (x**2 - 4)\n",
    "\n",
    "\n",
    "a = 0\n",
    "b = 6\n",
    "tol = 1e-11\n",
    "max_iter = 100\n",
    "\n",
    "BM.bisection(a, b, max_iter, tol, f)"
   ]
  },
  {
   "cell_type": "markdown",
   "metadata": {},
   "source": [
    "Example 2:\n",
    "\n",
    "the intersection of $$(x - 0.5)^3 = 0$$\n"
   ]
  },
  {
   "cell_type": "code",
   "execution_count": null,
   "metadata": {
    "vscode": {
     "languageId": "plaintext"
    }
   },
   "outputs": [],
   "source": [
    "def f(x):\n",
    "    return (x-0.5)**3\n",
    "\n",
    "\n",
    "a = 0\n",
    "b = 2\n",
    "tol = 1e-11\n",
    "max_iter = 100\n",
    "\n",
    "BM.bisection(a, b, max_iter, tol, f)"
   ]
  },
  {
   "cell_type": "markdown",
   "metadata": {},
   "source": [
    "Example 3:\n",
    "\n",
    "the root of $$0.1*sin(20x)+sin(x)$$"
   ]
  },
  {
   "cell_type": "code",
   "execution_count": null,
   "metadata": {
    "vscode": {
     "languageId": "plaintext"
    }
   },
   "outputs": [],
   "source": [
    "def f(x):\n",
    "    return 0.1*np.sin(20*x) + np.sin(x)\n",
    "\n",
    "    \n",
    "a = 0\n",
    "b = 7\n",
    "tol = 1e-11\n",
    "max_iter = 100\n",
    "\n",
    "BM.bisection(a, b, max_iter, tol, f)"
   ]
  },
  {
   "cell_type": "markdown",
   "metadata": {},
   "source": [
    "Example4:\n",
    "\n",
    "Natural frequency of a spring-mass system governed by: \n",
    "$$ K - m * \\omega^2 = 0$$\n",
    "We assume K = 100 and m = 10"
   ]
  },
  {
   "cell_type": "code",
   "execution_count": null,
   "metadata": {
    "vscode": {
     "languageId": "plaintext"
    }
   },
   "outputs": [],
   "source": [
    "def f(w):\n",
    "    return 100 - 10 * w**2\n",
    "\n",
    "    \n",
    "a = 0\n",
    "b = 7\n",
    "tol = 1e-11\n",
    "max_iter = 100\n",
    "\n",
    "BM.bisection(a, b, max_iter, tol, f)"
   ]
  },
  {
   "cell_type": "markdown",
   "metadata": {},
   "source": [
    "Example5:\n",
    "\n",
    "The natural frequency of a beam with two ends being fixed is governed by:\n",
    "\n",
    "$$ cos(l * \\omega) * cosh(l * \\omega) - 1= 0$$\n",
    "\n",
    "we assume that l = 20\n"
   ]
  },
  {
   "cell_type": "code",
   "execution_count": null,
   "metadata": {
    "vscode": {
     "languageId": "plaintext"
    }
   },
   "outputs": [],
   "source": [
    "def f(x):\n",
    "    return np.cos(20*x) * np.cosh(20*x) - 1\n",
    "\n",
    "    \n",
    "a = 0\n",
    "b = 7\n",
    "tol = 1e-11\n",
    "max_iter = 100\n",
    "\n",
    "BM.bisection(a, b, max_iter, tol, f)"
   ]
  }
 ],
 "metadata": {
  "kernelspec": {
   "display_name": "Python 3 (ipykernel)",
   "language": "python",
   "name": "python3"
  },
  "language_info": {
   "codemirror_mode": {
    "name": "ipython",
    "version": 3
   },
   "file_extension": ".py",
   "mimetype": "text/x-python",
   "name": "python",
   "nbconvert_exporter": "python",
   "pygments_lexer": "ipython3",
   "version": "3.12.4"
  }
 },
 "nbformat": 4,
 "nbformat_minor": 4
}
